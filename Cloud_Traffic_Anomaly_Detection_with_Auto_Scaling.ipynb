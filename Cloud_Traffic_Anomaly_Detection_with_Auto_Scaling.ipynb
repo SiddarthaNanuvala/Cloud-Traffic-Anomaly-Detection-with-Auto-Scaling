{
  "nbformat": 4,
  "nbformat_minor": 0,
  "metadata": {
    "colab": {
      "provenance": []
    },
    "kernelspec": {
      "name": "python3",
      "display_name": "Python 3"
    },
    "language_info": {
      "name": "python"
    }
  },
  "cells": [
    {
      "cell_type": "code",
      "execution_count": 1,
      "metadata": {
        "colab": {
          "base_uri": "https://localhost:8080/"
        },
        "id": "a5_1vIdY2e7z",
        "outputId": "fd684da9-24de-4073-b335-3e620365c31a"
      },
      "outputs": [
        {
          "output_type": "stream",
          "name": "stdout",
          "text": [
            "Downloading from https://www.kaggle.com/api/v1/datasets/download/programmer3/unsw-nb15-dataset?dataset_version_number=2...\n"
          ]
        },
        {
          "output_type": "stream",
          "name": "stderr",
          "text": [
            "100%|██████████| 1.11M/1.11M [00:00<00:00, 2.16MB/s]"
          ]
        },
        {
          "output_type": "stream",
          "name": "stdout",
          "text": [
            "Extracting files...\n",
            "Path to dataset files: /root/.cache/kagglehub/datasets/programmer3/unsw-nb15-dataset/versions/2\n"
          ]
        },
        {
          "output_type": "stream",
          "name": "stderr",
          "text": [
            "\n"
          ]
        }
      ],
      "source": [
        "import kagglehub\n",
        "\n",
        "# Download latest version\n",
        "path = kagglehub.dataset_download(\"programmer3/unsw-nb15-dataset\")\n",
        "\n",
        "print(\"Path to dataset files:\", path)"
      ]
    },
    {
      "cell_type": "code",
      "source": [
        "import os, glob\n",
        "import pandas as pd\n",
        "\n",
        "# Find all relevant CSV files in the downloaded dataset folder\n",
        "csvs = glob.glob('/root/.cache/kagglehub/datasets/programmer3/unsw-nb15-dataset/versions/2/**/*.csv', recursive=True)\n",
        "print(len(csvs), 'CSV files found')\n",
        "for p in csvs[:10]:\n",
        "    print(p)\n",
        "\n",
        "# Load and preview the first CSV file\n",
        "df = pd.read_csv(csvs[0])\n",
        "print('Shape:', df.shape)\n",
        "print('Columns:', list(df.columns)[:20], '...')\n",
        "print(df.head(3))\n"
      ],
      "metadata": {
        "colab": {
          "base_uri": "https://localhost:8080/"
        },
        "id": "2geGb0S83fhj",
        "outputId": "b28ad280-336f-4c1c-aaa6-d2543ab36ece"
      },
      "execution_count": 2,
      "outputs": [
        {
          "output_type": "stream",
          "name": "stdout",
          "text": [
            "1 CSV files found\n",
            "/root/.cache/kagglehub/datasets/programmer3/unsw-nb15-dataset/versions/2/UNSW_NB15.csv\n",
            "Shape: (7465, 44)\n",
            "Columns: ['dur', 'proto', 'service', 'state', 'spkts', 'dpkts', 'sbytes', 'dbytes', 'rate', 'sttl', 'dttl', 'sload', 'dload', 'sloss', 'dloss', 'sinpkt', 'dinpkt', 'sjit', 'djit', 'swin'] ...\n",
            "          dur proto service state  spkts  dpkts  sbytes  dbytes        rate  \\\n",
            "0  374.540119   tcp       -   CON     70     38   45337   84540  154.791136   \n",
            "1  950.714306   udp     ftp   CON     31     70   15586   63543  229.870435   \n",
            "2  731.993942   tcp    http   INT     80     45   95651   47001  549.325669   \n",
            "\n",
            "   sttl  ...  ct_ftp_cmd  ct_srv_dst  ct_dst_ltm  ct_src_ ltm  \\\n",
            "0   111  ...           0          71          94            7   \n",
            "1   209  ...           4          81           4           86   \n",
            "2   186  ...           0          48          83            4   \n",
            "\n",
            "   ct_src_dport_ltm  ct_dst_sport_ltm  ct_dst_src_ltm  is_sm_ips_ports  \\\n",
            "0                95                53              74                1   \n",
            "1                19                 4              47                1   \n",
            "2                 1                 9              49                1   \n",
            "\n",
            "   attack_cat  label  \n",
            "0   Shellcode      1  \n",
            "1   Shellcode      1  \n",
            "2       Worms      1  \n",
            "\n",
            "[3 rows x 44 columns]\n"
          ]
        }
      ]
    },
    {
      "cell_type": "code",
      "source": [
        "# Identify possible label and category columns\n",
        "label_col_candidates = [c for c in df.columns if c.lower() in ['label', 'is_attack', 'class', 'binary_label']]\n",
        "cat_col_candidates = [c for c in df.columns if 'attack' in c.lower() and 'cat' in c.lower()]\n",
        "print('Binary candidates:', label_col_candidates)\n",
        "print('Attack category candidates:', cat_col_candidates)\n",
        "\n",
        "BINARY_COL = label_col_candidates[0]\n",
        "ATTACK_COL = cat_col_candidates[0] if cat_col_candidates else None\n",
        "\n",
        "# Normalize binary label to 0/1\n",
        "df['y_bin'] = (df[BINARY_COL].astype(int) > 0).astype(int)\n",
        "\n",
        "# Normalize multiclass (optional)\n",
        "if ATTACK_COL:\n",
        "    df['y_cat'] = df[ATTACK_COL].fillna('Benign').replace({'-': 'Benign'})\n",
        "print(df[['y_bin']].head())\n",
        "if ATTACK_COL:\n",
        "    print(df[['y_cat']].head())\n"
      ],
      "metadata": {
        "colab": {
          "base_uri": "https://localhost:8080/"
        },
        "id": "W3Iyzf3Z3y8t",
        "outputId": "27e8de88-17d1-46ac-e8f0-12fac648082a"
      },
      "execution_count": 3,
      "outputs": [
        {
          "output_type": "stream",
          "name": "stdout",
          "text": [
            "Binary candidates: ['label']\n",
            "Attack category candidates: ['attack_cat']\n",
            "   y_bin\n",
            "0      1\n",
            "1      1\n",
            "2      1\n",
            "3      1\n",
            "4      1\n",
            "       y_cat\n",
            "0  Shellcode\n",
            "1  Shellcode\n",
            "2      Worms\n",
            "3   Analysis\n",
            "4   Analysis\n"
          ]
        }
      ]
    },
    {
      "cell_type": "code",
      "source": [
        "# Identify pure identifier, network, and timing columns\n",
        "id_like = [c for c in df.columns if any(k in c.lower() for k in ['id', 'flowid'])]\n",
        "net_like = [c for c in df.columns if c.lower() in ['srcip', 'dstip', 'sport', 'dsport']]\n",
        "time_like = [c for c in df.columns if 'time' in c.lower() or c.lower() in ['timestamp', 'stime', 'ltime']]\n",
        "print('id_like:', id_like)\n",
        "print('net_like:', net_like)\n",
        "print('time_like:', time_like)\n"
      ],
      "metadata": {
        "colab": {
          "base_uri": "https://localhost:8080/"
        },
        "id": "2JQTjj7a4GHw",
        "outputId": "293163a2-77e0-4f0a-8f72-159a17df9403"
      },
      "execution_count": 4,
      "outputs": [
        {
          "output_type": "stream",
          "name": "stdout",
          "text": [
            "id_like: []\n",
            "net_like: []\n",
            "time_like: []\n"
          ]
        }
      ]
    },
    {
      "cell_type": "code",
      "source": [
        "import numpy as np\n",
        "\n",
        "# Check for missing values, duplicates, and class balance\n",
        "na_counts = df.isna().sum().sort_values(ascending=False)\n",
        "print('Top NA columns:\\n', na_counts.head(15))\n",
        "dup_count = df.duplicated().sum()\n",
        "print('Duplicate rows:', dup_count)\n",
        "\n",
        "# Binary class distribution and attack categories\n",
        "print('y_bin value counts:\\n', df['y_bin'].value_counts(dropna=False))\n",
        "if 'y_cat' in df:\n",
        "    print('Top attack categories:\\n', df['y_cat'].value_counts().head(10))\n",
        "\n",
        "# Numeric columns summary\n",
        "num_cols = df.select_dtypes(include=[np.number]).columns.tolist()\n",
        "print('Numeric columns:', len(num_cols))\n",
        "print(df[num_cols].describe().T.head(12))\n"
      ],
      "metadata": {
        "colab": {
          "base_uri": "https://localhost:8080/"
        },
        "id": "4sTOVy5N4L5K",
        "outputId": "a2e8c157-048d-4212-910f-15185d1c0731"
      },
      "execution_count": 5,
      "outputs": [
        {
          "output_type": "stream",
          "name": "stdout",
          "text": [
            "Top NA columns:\n",
            " dur        0\n",
            "proto      0\n",
            "service    0\n",
            "state      0\n",
            "spkts      0\n",
            "dpkts      0\n",
            "sbytes     0\n",
            "dbytes     0\n",
            "rate       0\n",
            "sttl       0\n",
            "dttl       0\n",
            "sload      0\n",
            "dload      0\n",
            "sloss      0\n",
            "dloss      0\n",
            "dtype: int64\n",
            "Duplicate rows: 0\n",
            "y_bin value counts:\n",
            " y_bin\n",
            "1    6748\n",
            "0     717\n",
            "Name: count, dtype: int64\n",
            "Top attack categories:\n",
            " y_cat\n",
            "Worms             788\n",
            "Backdoors         777\n",
            "Exploits          774\n",
            "Analysis          765\n",
            "Generic           763\n",
            "Reconnaissance    751\n",
            "DoS               722\n",
            "Normal            717\n",
            "Shellcode         704\n",
            "Fuzzers           704\n",
            "Name: count, dtype: int64\n",
            "Numeric columns: 41\n",
            "         count          mean           std       min           25%  \\\n",
            "dur     7465.0    495.760230    289.081491  0.011635    243.995302   \n",
            "spkts   7465.0     50.240857     28.528471  1.000000     26.000000   \n",
            "dpkts   7465.0     49.709444     28.500227  1.000000     25.000000   \n",
            "sbytes  7465.0  49887.177093  28969.259568  5.000000  24809.000000   \n",
            "dbytes  7465.0  49924.408707  28703.747547  2.000000  24960.000000   \n",
            "rate    7465.0    501.062404    286.954587  0.320827    253.282054   \n",
            "sttl    7465.0    127.478902     74.011587  0.000000     63.000000   \n",
            "dttl    7465.0    127.864032     74.202466  0.000000     64.000000   \n",
            "sload   7465.0   5055.212527   2898.497362  0.475389   2577.354129   \n",
            "dload   7465.0   4969.331160   2905.119706  1.151093   2443.745156   \n",
            "sloss   7465.0      4.503952      2.888749  0.000000      2.000000   \n",
            "dloss   7465.0      4.527395      2.866413  0.000000      2.000000   \n",
            "\n",
            "                 50%           75%           max  \n",
            "dur       493.795596    745.733783    999.717673  \n",
            "spkts      50.000000     75.000000     99.000000  \n",
            "dpkts      50.000000     74.000000     99.000000  \n",
            "sbytes  49739.000000  74931.000000  99992.000000  \n",
            "dbytes  49767.000000  74727.000000  99996.000000  \n",
            "rate      501.224975    748.013073    999.808973  \n",
            "sttl      128.000000    191.000000    255.000000  \n",
            "dttl      128.000000    192.000000    255.000000  \n",
            "sload    5001.652618   7614.032437   9998.950413  \n",
            "dload    4961.556756   7521.201217   9998.929166  \n",
            "sloss       5.000000      7.000000      9.000000  \n",
            "dloss       5.000000      7.000000      9.000000  \n"
          ]
        }
      ]
    },
    {
      "cell_type": "code",
      "source": [
        "from sklearn.model_selection import train_test_split\n",
        "from sklearn.metrics import classification_report\n",
        "from sklearn.ensemble import RandomForestClassifier\n",
        "\n",
        "# Drop target columns for feature set\n",
        "X_num = df.drop(columns=['label', 'attack_cat', 'y_bin', 'y_cat'], errors='ignore').select_dtypes(include=[np.number]).copy()\n",
        "y = df['y_bin']\n",
        "\n",
        "print('Numeric features:', X_num.shape[1])\n",
        "print('First few feature columns:', X_num.columns.tolist()[:10])\n",
        "\n",
        "# Train/test split and random forest model\n",
        "X_train, X_test, y_train, y_test = train_test_split(X_num, y, test_size=0.2, random_state=42, stratify=y)\n",
        "clf = RandomForestClassifier(n_estimators=100, n_jobs=-1, random_state=42)\n",
        "clf.fit(X_train, y_train)\n",
        "y_pred = clf.predict(X_test)\n",
        "print(classification_report(y_test, y_pred, digits=4))\n"
      ],
      "metadata": {
        "colab": {
          "base_uri": "https://localhost:8080/"
        },
        "id": "BVFZ8szv4aYB",
        "outputId": "527971e6-cdbe-4e4b-b5e5-d895492713fb"
      },
      "execution_count": 6,
      "outputs": [
        {
          "output_type": "stream",
          "name": "stdout",
          "text": [
            "Numeric features: 39\n",
            "First few feature columns: ['dur', 'spkts', 'dpkts', 'sbytes', 'dbytes', 'rate', 'sttl', 'dttl', 'sload', 'dload']\n",
            "              precision    recall  f1-score   support\n",
            "\n",
            "           0     0.0000    0.0000    0.0000       143\n",
            "           1     0.9042    1.0000    0.9497      1350\n",
            "\n",
            "    accuracy                         0.9042      1493\n",
            "   macro avg     0.4521    0.5000    0.4749      1493\n",
            "weighted avg     0.8176    0.9042    0.8587      1493\n",
            "\n"
          ]
        },
        {
          "output_type": "stream",
          "name": "stderr",
          "text": [
            "/usr/local/lib/python3.12/dist-packages/sklearn/metrics/_classification.py:1565: UndefinedMetricWarning: Precision is ill-defined and being set to 0.0 in labels with no predicted samples. Use `zero_division` parameter to control this behavior.\n",
            "  _warn_prf(average, modifier, f\"{metric.capitalize()} is\", len(result))\n",
            "/usr/local/lib/python3.12/dist-packages/sklearn/metrics/_classification.py:1565: UndefinedMetricWarning: Precision is ill-defined and being set to 0.0 in labels with no predicted samples. Use `zero_division` parameter to control this behavior.\n",
            "  _warn_prf(average, modifier, f\"{metric.capitalize()} is\", len(result))\n",
            "/usr/local/lib/python3.12/dist-packages/sklearn/metrics/_classification.py:1565: UndefinedMetricWarning: Precision is ill-defined and being set to 0.0 in labels with no predicted samples. Use `zero_division` parameter to control this behavior.\n",
            "  _warn_prf(average, modifier, f\"{metric.capitalize()} is\", len(result))\n"
          ]
        }
      ]
    },
    {
      "cell_type": "code",
      "source": [
        "# Manually balance dataset: equal records per class\n",
        "n_benign = df[df['y_bin']==0].shape[0]\n",
        "n_attack = n_benign  # Same number for balance\n",
        "\n",
        "benign_sample = df[df['y_bin'] == 0]\n",
        "attack_sample = df[df['y_bin'] == 1].sample(n=n_attack, random_state=42)\n",
        "\n",
        "sample = pd.concat([benign_sample, attack_sample]).sample(frac=1, random_state=42)  # shuffle\n",
        "\n",
        "# Save files\n",
        "sample.to_csv('unsw_stage1_sample.csv', index=False)\n",
        "pd.Series(X_num.columns).to_csv('unsw_stage1_feature_columns.csv', index=False)\n",
        "\n",
        "import os\n",
        "print(\"Files saved:\", os.listdir())\n"
      ],
      "metadata": {
        "colab": {
          "base_uri": "https://localhost:8080/"
        },
        "id": "uLVYEl2Q5UiS",
        "outputId": "c0eb357b-7f41-4eb6-9fc3-87846b9f81c9"
      },
      "execution_count": 8,
      "outputs": [
        {
          "output_type": "stream",
          "name": "stdout",
          "text": [
            "Files saved: ['.config', 'unsw_stage1_feature_columns.csv', 'unsw_stage1_sample.csv', 'sample_data']\n"
          ]
        }
      ]
    },
    {
      "cell_type": "code",
      "source": [
        "from google.colab import files\n",
        "\n",
        "# Download the dataset sample and the features file\n",
        "files.download('unsw_stage1_sample.csv')\n",
        "files.download('unsw_stage1_feature_columns.csv')\n"
      ],
      "metadata": {
        "colab": {
          "base_uri": "https://localhost:8080/",
          "height": 17
        },
        "id": "T4bSNzn55YKj",
        "outputId": "f6d82e8e-beef-49f6-a30d-3a88609508d0"
      },
      "execution_count": 10,
      "outputs": [
        {
          "output_type": "display_data",
          "data": {
            "text/plain": [
              "<IPython.core.display.Javascript object>"
            ],
            "application/javascript": [
              "\n",
              "    async function download(id, filename, size) {\n",
              "      if (!google.colab.kernel.accessAllowed) {\n",
              "        return;\n",
              "      }\n",
              "      const div = document.createElement('div');\n",
              "      const label = document.createElement('label');\n",
              "      label.textContent = `Downloading \"${filename}\": `;\n",
              "      div.appendChild(label);\n",
              "      const progress = document.createElement('progress');\n",
              "      progress.max = size;\n",
              "      div.appendChild(progress);\n",
              "      document.body.appendChild(div);\n",
              "\n",
              "      const buffers = [];\n",
              "      let downloaded = 0;\n",
              "\n",
              "      const channel = await google.colab.kernel.comms.open(id);\n",
              "      // Send a message to notify the kernel that we're ready.\n",
              "      channel.send({})\n",
              "\n",
              "      for await (const message of channel.messages) {\n",
              "        // Send a message to notify the kernel that we're ready.\n",
              "        channel.send({})\n",
              "        if (message.buffers) {\n",
              "          for (const buffer of message.buffers) {\n",
              "            buffers.push(buffer);\n",
              "            downloaded += buffer.byteLength;\n",
              "            progress.value = downloaded;\n",
              "          }\n",
              "        }\n",
              "      }\n",
              "      const blob = new Blob(buffers, {type: 'application/binary'});\n",
              "      const a = document.createElement('a');\n",
              "      a.href = window.URL.createObjectURL(blob);\n",
              "      a.download = filename;\n",
              "      div.appendChild(a);\n",
              "      a.click();\n",
              "      div.remove();\n",
              "    }\n",
              "  "
            ]
          },
          "metadata": {}
        },
        {
          "output_type": "display_data",
          "data": {
            "text/plain": [
              "<IPython.core.display.Javascript object>"
            ],
            "application/javascript": [
              "download(\"download_2c632ceb-8d39-4d6f-847c-0ebf7000ddd4\", \"unsw_stage1_sample.csv\", 480644)"
            ]
          },
          "metadata": {}
        },
        {
          "output_type": "display_data",
          "data": {
            "text/plain": [
              "<IPython.core.display.Javascript object>"
            ],
            "application/javascript": [
              "\n",
              "    async function download(id, filename, size) {\n",
              "      if (!google.colab.kernel.accessAllowed) {\n",
              "        return;\n",
              "      }\n",
              "      const div = document.createElement('div');\n",
              "      const label = document.createElement('label');\n",
              "      label.textContent = `Downloading \"${filename}\": `;\n",
              "      div.appendChild(label);\n",
              "      const progress = document.createElement('progress');\n",
              "      progress.max = size;\n",
              "      div.appendChild(progress);\n",
              "      document.body.appendChild(div);\n",
              "\n",
              "      const buffers = [];\n",
              "      let downloaded = 0;\n",
              "\n",
              "      const channel = await google.colab.kernel.comms.open(id);\n",
              "      // Send a message to notify the kernel that we're ready.\n",
              "      channel.send({})\n",
              "\n",
              "      for await (const message of channel.messages) {\n",
              "        // Send a message to notify the kernel that we're ready.\n",
              "        channel.send({})\n",
              "        if (message.buffers) {\n",
              "          for (const buffer of message.buffers) {\n",
              "            buffers.push(buffer);\n",
              "            downloaded += buffer.byteLength;\n",
              "            progress.value = downloaded;\n",
              "          }\n",
              "        }\n",
              "      }\n",
              "      const blob = new Blob(buffers, {type: 'application/binary'});\n",
              "      const a = document.createElement('a');\n",
              "      a.href = window.URL.createObjectURL(blob);\n",
              "      a.download = filename;\n",
              "      div.appendChild(a);\n",
              "      a.click();\n",
              "      div.remove();\n",
              "    }\n",
              "  "
            ]
          },
          "metadata": {}
        },
        {
          "output_type": "display_data",
          "data": {
            "text/plain": [
              "<IPython.core.display.Javascript object>"
            ],
            "application/javascript": [
              "download(\"download_22198394-f18b-4da5-9095-fdaf20b679d2\", \"unsw_stage1_feature_columns.csv\", 344)"
            ]
          },
          "metadata": {}
        }
      ]
    }
  ]
}